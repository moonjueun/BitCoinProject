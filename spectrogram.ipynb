{
 "cells": [
  {
   "cell_type": "code",
   "execution_count": 1,
   "metadata": {},
   "outputs": [],
   "source": [
    "import numpy as np\n",
    "import pandas as pd\n",
    "# import quantstats as qs\n",
    "import matplotlib.pyplot as plt\n",
    "import pytz\n",
    "import os\n",
    "import cv2\n",
    "# import pywt\n",
    "\n",
    "from binance.client import Client\n",
    "from datetime import datetime, timedelta\n"
   ]
  },
  {
   "cell_type": "markdown",
   "metadata": {},
   "source": [
    "## 1. Data Processing (raw -> 성능 좋지 않음)"
   ]
  },
  {
   "cell_type": "code",
   "execution_count": 4,
   "metadata": {},
   "outputs": [
    {
     "name": "stdout",
     "output_type": "stream",
     "text": [
      "coin name :  BTCUSDT\n",
      "zeros : 1, plus : 3, minus : 8\n",
      "coin name :  ETHUSDT\n",
      "zeros : 1, plus : 3, minus : 8\n",
      "coin name :  BNBUSDT\n",
      "zeros : 2, plus : 3, minus : 7\n",
      "coin name :  ADAUSDT\n",
      "zeros : 2, plus : 3, minus : 7\n",
      "coin name :  SOLUSDT\n",
      "zeros : 0, plus : 1, minus : 11\n",
      "coin name :  XRPUSDT\n",
      "zeros : 2, plus : 3, minus : 7\n",
      "coin name :  DOTUSDT\n",
      "zeros : 3, plus : 3, minus : 6\n",
      "coin name :  AVAXUSDT\n",
      "zeros : 1, plus : 4, minus : 7\n",
      "coin name :  DOGEUSDT\n",
      "zeros : 2, plus : 4, minus : 6\n",
      "coin name :  LTCUSDT\n",
      "zeros : 3, plus : 2, minus : 7\n",
      "coin name :  WLDUSDT\n",
      "zeros : 2, plus : 3, minus : 7\n"
     ]
    }
   ],
   "source": [
    "# Binance API 키 설정\n",
    "API_KEY = 'nu1AV1q04nvVCGcZpxmYYM4AJovxghU644sTP5Q59Xo4T5tjwsBwLEp4viXQU4om'\n",
    "API_SECRET = 'yruAAb0iJ1mwz8hsxVIrklph4YWW82Uhb1vlPdiQ1pNMV9EJWOjV1MY0UPHPp7ev'\n",
    "\n",
    "client = Client(API_KEY, API_SECRET)\n",
    "\n",
    "# 한국 시간과 UTC와의 시차\n",
    "# utc_offset = timedelta(hours=9)\n",
    "utc_offset = timedelta(hours=0)\n",
    "\n",
    "# 데이터 수집 기간 설정 (3개월)\n",
    "end_date = datetime.now(pytz.timezone('Asia/Seoul'))  # 현재 한국 시간\n",
    "start_date = end_date - timedelta(days=10)  # 365일 전까지의 데이터 수집\n",
    "\n",
    "# start_date = end_date - timedelta(days=90)  # 365일 전까지의 데이터 수집\n",
    "\n",
    "# UTC 시간을 한국 시간으로 변환하여 데이터 수집\n",
    "start_date_utc = start_date.astimezone(pytz.utc)\n",
    "end_date_utc = end_date.astimezone(pytz.utc)\n",
    "\n",
    "\n",
    "################### Data Load ###################\n",
    "top_coins_usdt = [\"BTCUSDT\", \"ETHUSDT\", \"BNBUSDT\", \"ADAUSDT\", \"SOLUSDT\", \"XRPUSDT\", \"DOTUSDT\", \"AVAXUSDT\", \"DOGEUSDT\", \"LTCUSDT\", \"WLDUSDT\"]\n",
    "\n",
    "save_root = f\"../coin_data/datasets\"\n",
    "\n",
    "if not os.path.exists(save_root):\n",
    "    os.mkdir(save_root)\n",
    "\n",
    "\n",
    "for coin in top_coins_usdt:\n",
    "    # 데이터 수집\n",
    "    symbol = coin  # 비트코인/달러 페어\n",
    "    interval = Client.KLINE_INTERVAL_5MINUTE  # 5분 주기 데이터\n",
    "    candle = client.get_historical_klines(symbol, interval, start_date_utc.strftime(\"%Y-%m-%d %H:%M:%S\"), end_date_utc.strftime(\"%Y-%m-%d %H:%M:%S\"))\n",
    "\n",
    "    # 데이터를 데이터프레임으로 변환\n",
    "    columns = ['timestamp', 'open', 'high', 'low', 'close', 'volume', 'close_time', 'quote_asset_volume', 'number_of_trades', 'taker_buy_base_asset_volume', 'taker_buy_quote_asset_volume', 'ignore']\n",
    "    df = pd.DataFrame(candle, columns=columns)\n",
    "\n",
    "    # timestamp 열을 날짜 형식으로 변환 (UTC 시간에서 한국 시간으로 변환)\n",
    "    df['timestamp'] = pd.to_datetime(df['timestamp'], unit='ms').dt.tz_localize('UTC').dt.tz_convert('Asia/Seoul')\n",
    "\n",
    "    # 필요한 열만 선택\n",
    "    df = df[['timestamp', 'open', 'high', 'low', 'close', 'volume']]\n",
    "    df.reset_index()\n",
    "\n",
    "    df.columns = [\"Date\", \"Open\", \"High\", \"Low\",\"Close\", \"Volume\"]\n",
    "\n",
    "    df['Open'] = df['Open'].astype(np.float64)\n",
    "    df['High'] = df['High'].astype(np.float64)\n",
    "    df['Low'] = df['Low'].astype(np.float64)\n",
    "    df['Close'] = df['Close'].astype(np.float64)\n",
    "    df['Volume'] = df['Volume'].astype(np.float64)\n",
    "\n",
    "    df['Date'] = pd.to_datetime(df['Date'])\n",
    "    df_ = df.set_index(\"Date\")\n",
    "\n",
    "    \n",
    "    ################### Time Series data to Image Data ###################\n",
    "    df = df_[:].copy()\n",
    "    length = len(df) // 224\n",
    "    test_data = df\n",
    "\n",
    "    mean_data_ = (test_data[\"Low\"].values.astype(np.float64) + test_data[\"High\"].values.astype(np.float64)) / 2\n",
    "    close_data_ = test_data[\"Close\"].values.astype(np.float64)\n",
    "    volume_data_ = test_data[\"Volume\"].values.astype(np.float64)\n",
    "\n",
    "    window_size = 224\n",
    "        \n",
    "    print(\"coin name : \", coin)\n",
    "    \n",
    "    zeros = 0\n",
    "    minus = 0\n",
    "    plus = 0\n",
    "    \n",
    "    for i in range(length):\n",
    "        mean_data = mean_data_[i* window_size : (i+1) * window_size]\n",
    "        \n",
    "        close_data = close_data_[i* window_size : (i+1) * window_size]\n",
    "        close_copy = close_data.copy()\n",
    "        \n",
    "        \n",
    "        volume_data = volume_data_[i* window_size : (i+1) * window_size]\n",
    "        lenth_test = len(volume_data)\n",
    "\n",
    "        if volume_data.all() == 0.:\n",
    "            volume_data = [1e-04] * lenth_test\n",
    "            volume_data = np.array(volume_data)\n",
    "\n",
    "        close_data = np.expand_dims(close_data, axis = 1)\n",
    "        mean_data = np.expand_dims(mean_data, axis = 1)\n",
    "        volume_data = np.expand_dims(volume_data, axis = 1)\n",
    "\n",
    "        total_data = np.concatenate([close_data, mean_data, volume_data], axis = 1)\n",
    "        \n",
    "        \n",
    "        predict_value = close_data_[(i+1) * window_size+1]\n",
    "        \n",
    "        interest_rate = (predict_value / close_copy[-1]) -1\n",
    "        if interest_rate > 0.0005:\n",
    "            gt = 1\n",
    "            plus +=1\n",
    "        elif interest_rate < -0.0005:\n",
    "            gt = -1\n",
    "            minus +=1\n",
    "        else:\n",
    "            gt = 0\n",
    "            zeros += 1\n",
    "\n",
    "        \n",
    "        save_dir = save_root + f\"/{coin}\" \n",
    "        if not os.path.exists(save_dir):\n",
    "            os.mkdir(save_dir)\n",
    "        save_path = save_dir + \"/\" +\"time_series_\" + str(i) +\".npy\"\n",
    "        # save_img = save_dir + \"/\" +\"image_\" + str(i) +\".png\"\n",
    "        save_gt_path = save_dir + \"/\" +\"gt_\" + str(i) +\".npy\"\n",
    "\n",
    "        np.save(save_path, total_data)\n",
    "        # # cv2.imwrite(save_img, viz_img)\n",
    "        np.save(save_gt_path, gt)\n",
    "        \n",
    "        \n",
    "    print(\"zeros : {}, plus : {}, minus : {}\".format(zeros, plus, minus))\n",
    "\n"
   ]
  },
  {
   "cell_type": "markdown",
   "metadata": {},
   "source": [
    "## 1-1. Data Processing (normalization and log-scaling)"
   ]
  },
  {
   "cell_type": "markdown",
   "metadata": {},
   "source": [
    "## 2. Data Saving"
   ]
  },
  {
   "cell_type": "code",
   "execution_count": 5,
   "metadata": {},
   "outputs": [],
   "source": [
    "from glob import glob\n",
    "import numpy as np\n",
    "import os\n",
    "\n",
    "root_path = f\"../coin_data/datasets\"\n",
    "\n",
    "coin_names = os.listdir(root_path)\n",
    "\n",
    "\n",
    "coin_list = []\n",
    "gt_list = []\n",
    "\n",
    "\n",
    "for coin in coin_names :\n",
    "    coin_paths = sorted(glob(root_path + \"/\" + coin +\"/time_series_*.npy\"))\n",
    "    gt_paths = sorted(glob(root_path + \"/\" + coin +\"/gt_*.npy\"))\n",
    "    \n",
    "    coin_list.extend(coin_paths)\n",
    "    gt_list.extend(gt_paths)\n"
   ]
  },
  {
   "cell_type": "code",
   "execution_count": 6,
   "metadata": {},
   "outputs": [],
   "source": [
    "import pandas as pd\n",
    "\n",
    "df =  pd.DataFrame({\"original_paths\" : coin_list, \n",
    "                   \"coin_gt_paths\" : gt_list})\n",
    "df.to_csv(f\"../coin_data/datasets/train_dataset.csv\")"
   ]
  },
  {
   "cell_type": "code",
   "execution_count": 7,
   "metadata": {},
   "outputs": [],
   "source": [
    "import pandas as pd\n",
    "import torch\n",
    "import numpy as np\n",
    "\n",
    "\n",
    "from sklearn.model_selection import train_test_split\n",
    "from torch.utils.data import Dataset\n",
    "\n",
    "class CustomDataset(Dataset):\n",
    "    def __init__(self, csv_path, is_train):\n",
    "\n",
    "        df = pd.read_csv(csv_path)\n",
    "\n",
    "        img_path = df[\"original_paths\"].tolist()\n",
    "        gt_path = df[\"coin_gt_paths\"].tolist()\n",
    "\n",
    "        self.train_data_path, self.test_data_path, self.train_gt_path, self.test_gt_path = train_test_split(img_path, gt_path, random_state=4715, test_size = 0.3)\n",
    "        self.is_train = is_train\n",
    "    \n",
    "    def __len__(self):\n",
    "        if self.is_train == True:\n",
    "            return len(self.train_gt_path)\n",
    "        else:\n",
    "            return len(self.test_data_path)\n",
    "\n",
    "    def __getitem__(self, idx):\n",
    "\n",
    "        if self.is_train:\n",
    "            data_path = self.train_data_path[idx]\n",
    "            gt_path = self.train_gt_path[idx]\n",
    "\n",
    "            original_data = np.load(data_path)\n",
    "            gt = np.load(gt_path)\n",
    "            \n",
    "            \n",
    "            if gt == -1:\n",
    "                gt =  np.array([1, 0, 0])\n",
    "            elif gt == 0:\n",
    "                gt = np.array([0, 1, 0])\n",
    "            elif gt == 1:\n",
    "                gt = np.array([0, 0, 1])\n",
    "\n",
    "\n",
    "            return original_data, gt\n",
    "        else:\n",
    "            data_path = self.train_data_path[idx]\n",
    "            gt_path = self.train_gt_path[idx]\n",
    "\n",
    "            original_data = np.load(data_path)\n",
    "            gt = np.load(gt_path)\n",
    "            if gt == -1:\n",
    "                gt =  np.array([1, 0, 0])\n",
    "            elif gt == 0:\n",
    "                gt = np.array([0, 1, 0])\n",
    "            elif gt == 1:\n",
    "                gt = np.array([0, 0, 1])\n",
    "\n",
    "            return original_data, gt\n"
   ]
  },
  {
   "cell_type": "markdown",
   "metadata": {},
   "source": [
    "## 2. LSTM Defintion"
   ]
  },
  {
   "cell_type": "code",
   "execution_count": 8,
   "metadata": {},
   "outputs": [],
   "source": [
    "import torch.nn as nn\n",
    "\n",
    "class CustomLSTM(nn.Module):\n",
    "    def __init__(self, input_channel =3, output_channel=3, batch_size = 16):\n",
    "        super(CustomLSTM, self).__init__()\n",
    "        self.input_channel = input_channel\n",
    "        self.output_channel = output_channel\n",
    "        self.batch_size = batch_size\n",
    "        self.lstm1 = nn.LSTM(input_size=self.input_channel, hidden_size=128, num_layers=3, bidirectional=False, batch_first=True)\n",
    "        self.activation1 = nn.GELU()\n",
    "        self.lstm2 = nn.LSTM(input_size=128, hidden_size=256, num_layers=3, bidirectional=False, batch_first=True)\n",
    "        self.activation2 = nn.GELU()\n",
    "        self.lstm3 = nn.LSTM(input_size=256, hidden_size=self.output_channel, num_layers=3, bidirectional=False, batch_first=True)\n",
    "        self.activation3 = nn.GELU()\n",
    "\n",
    "        self.fc1 = nn.Linear(in_features=self.input_channel * 224, out_features=256)\n",
    "        self.activation4 = nn.GELU()\n",
    "        self.fc2 = nn.Linear(in_features= 256, out_features=128)\n",
    "        self.activation5 = nn.GELU()\n",
    "        self.fc3 = nn.Linear(in_features=128, out_features=3)\n",
    "        self.activation6 = nn.Softmax()\n",
    "        \n",
    "    def forward(self, x):\n",
    "        batch, _, _ = x.shape\n",
    "        x, hidden_tuple1 = self.lstm1(x)\n",
    "        x = self.activation1(x)\n",
    "        x, hidden_tuple2 = self.lstm2(x)\n",
    "        x = self.activation2(x)\n",
    "        x, hidden_tuple3 = self.lstm3(x)\n",
    "        x = self.activation3(x)\n",
    "\n",
    "        x = x.reshape(batch, -1)\n",
    "        x = self.fc1(x)\n",
    "        x = self.activation4(x)\n",
    "        x = self.fc2(x)\n",
    "        x = self.activation5(x)\n",
    "        x = self.fc3(x)\n",
    "        x = self.activation6(x)\n",
    "        return x\n",
    "        \n",
    "model = CustomLSTM(input_channel=3, output_channel=3)"
   ]
  },
  {
   "cell_type": "code",
   "execution_count": 14,
   "metadata": {},
   "outputs": [
    {
     "data": {
      "text/plain": [
       "CustomLSTM(\n",
       "  (lstm1): LSTM(3, 128, num_layers=3, batch_first=True)\n",
       "  (activation1): GELU(approximate='none')\n",
       "  (lstm2): LSTM(128, 256, num_layers=3, batch_first=True)\n",
       "  (activation2): GELU(approximate='none')\n",
       "  (lstm3): LSTM(256, 3, num_layers=3, batch_first=True)\n",
       "  (activation3): GELU(approximate='none')\n",
       "  (fc1): Linear(in_features=672, out_features=256, bias=True)\n",
       "  (activation4): GELU(approximate='none')\n",
       "  (fc2): Linear(in_features=256, out_features=128, bias=True)\n",
       "  (activation5): GELU(approximate='none')\n",
       "  (fc3): Linear(in_features=128, out_features=3, bias=True)\n",
       "  (activation6): Softmax(dim=None)\n",
       ")"
      ]
     },
     "execution_count": 14,
     "metadata": {},
     "output_type": "execute_result"
    }
   ],
   "source": [
    "model"
   ]
  },
  {
   "cell_type": "markdown",
   "metadata": {},
   "source": [
    "## Train Loop"
   ]
  },
  {
   "cell_type": "code",
   "execution_count": 18,
   "metadata": {},
   "outputs": [
    {
     "name": "stderr",
     "output_type": "stream",
     "text": [
      "c:\\Users\\JooEun Moon\\anaconda3\\envs\\trading_py64\\lib\\site-packages\\torch\\nn\\modules\\module.py:1511: UserWarning: Implicit dimension choice for softmax has been deprecated. Change the call to include dim=X as an argument.\n",
      "  return self._call_impl(*args, **kwargs)\n"
     ]
    }
   ],
   "source": [
    "import torch.optim as optim\n",
    "import wandb \n",
    "\n",
    "from torch.optim.lr_scheduler import CosineAnnealingLR\n",
    "from torch.utils.data import DataLoader\n",
    "from sklearn.model_selection import KFold\n",
    "\n",
    "train_dataset = CustomDataset(\"../coin_data/datasets/train_dataset.csv\", True)\n",
    "val_dataset = CustomDataset(\"../coin_data/datasets/train_dataset.csv\", False)\n",
    "\n",
    "epoches = 100\n",
    "device = \"cuda\" if torch.cuda.is_available() else \"cpu\" \n",
    "\n",
    "### 1. model 정의\n",
    "model = CustomLSTM()\n",
    "model = model.to(device)\n",
    "## 2. optimizer 정의\n",
    "optimizer = optim.AdamW(model.parameters(), lr = 1e-04, betas = (0.9, 0.999))\n",
    "## 3. Scheduler 정의\n",
    "scheduler = CosineAnnealingLR(optimizer, T_max=10)\n",
    "## 4. criterion 정의\n",
    "criterion = nn.CrossEntropyLoss()\n",
    "\n",
    "train_dataset = CustomDataset(\"../coin_data/datasets/train_dataset.csv\", True)\n",
    "test_dataset = CustomDataset(\"../coin_data/datasets/train_dataset.csv\", False) \n",
    "test_loader = DataLoader(test_dataset, batch_size = 16, shuffle = False)\n",
    "\n",
    "kfold = KFold(n_splits=5, shuffle=True, random_state=4715)\n",
    "\n",
    "# watch the train step\n",
    "wandb.init()\n",
    "\n",
    "for epoch in range(epoches):\n",
    "    train_losses = []\n",
    "    \n",
    "    for fold, (train_idx, val_idx) in enumerate(kfold.split(train_dataset)):\n",
    "        train_subset = torch.utils.data.Subset(train_dataset, train_idx)\n",
    "        train_subset_loader = DataLoader(train_subset, batch_size = 16, shuffle = True)\n",
    "        val_subset = torch.utils.data.Subset(train_dataset, val_idx)\n",
    "        val_subset_loader = DataLoader(val_subset, batch_size = 16, shuffle = False)\n",
    "\n",
    "\n",
    "        train_loss_list = []\n",
    "        for (t_idx), (train_data, train_gt) in enumerate(train_subset_loader):\n",
    "            train_data = train_data.to(device)\n",
    "            train_data = train_data.to(torch.float)\n",
    "            train_gt = train_gt.to(device)\n",
    "            train_gt = train_gt.to(torch.float)\n",
    "\n",
    "\n",
    "            train_prediction = model(train_data)\n",
    "\n",
    "            train_loss = criterion(train_prediction, train_gt)\n",
    "            \n",
    "            optimizer.zero_grad()\n",
    "            train_loss.backward()\n",
    "            optimizer.step()\n",
    "            train_loss_list.append(train_loss.item())\n",
    "\n",
    "            break\n",
    "        val_loss_list = []\n",
    "        with torch.no_grad():\n",
    "            for (v_idx), (val_data, val_gt) in enumerate(val_subset_loader):\n",
    "                val_data = val_data.to(device)\n",
    "                val_data = val_data.to(torch.float)\n",
    "                val_gt = val_gt.to(device)\n",
    "                val_gt = val_gt.to(torch.float)\n",
    "\n",
    "                val_prediction = model(val_data)\n",
    "\n",
    "                val_loss = criterion(val_prediction, val_gt)\n",
    "                val_loss_list.append(val_loss.item())\n",
    "\n",
    "    test_loss_list = []\n",
    "    with torch.no_grad():\n",
    "        for test_idx, (test_data, test_gt) in enumerate(test_loader):\n",
    "            test_data = test_data.to(device)\n",
    "            test_data = test_data.to(torch.float)\n",
    "            test_gt = test_gt.to(device)\n",
    "            test_gt = test_gt.to(torch.float)\n",
    "\n",
    "            test_prediction = model(test_data)\n",
    "\n",
    "            test_loss = criterion(test_prediction, test_gt)\n",
    "            test_loss_list.append(test_loss.item())\n",
    "\n",
    "        \n",
    "        break\n",
    "    break"
   ]
  },
  {
   "cell_type": "code",
   "execution_count": null,
   "metadata": {},
   "outputs": [],
   "source": [
    "\n",
    "run = wandb.init(\n",
    "    # Set the project where this run will be logged\n",
    "    project=\"my-awesome-project\",\n",
    "    # Track hyperparameters and run metadata\n",
    "    config={\n",
    "        \"learning_rate\": 0.01,\n",
    "        \"epochs\": 10,\n",
    "    },\n",
    ")"
   ]
  },
  {
   "cell_type": "code",
   "execution_count": null,
   "metadata": {},
   "outputs": [],
   "source": []
  },
  {
   "cell_type": "code",
   "execution_count": null,
   "metadata": {},
   "outputs": [],
   "source": []
  },
  {
   "cell_type": "code",
   "execution_count": null,
   "metadata": {},
   "outputs": [],
   "source": []
  },
  {
   "cell_type": "markdown",
   "metadata": {},
   "source": [
    "## 4. Model Architecture"
   ]
  },
  {
   "cell_type": "code",
   "execution_count": 29,
   "metadata": {},
   "outputs": [],
   "source": [
    "import torch.nn as nn\n",
    "import torch.nn.functional as F\n",
    "\n",
    "class ModifiedDinoVisionTransformer(nn.Module):\n",
    "    def __init__(self):\n",
    "        super(ModifiedDinoVisionTransformer, self).__init__()\n",
    "        \n",
    "        # 기존 DinoVisionTransformer 모델 로드\n",
    "        self.dino_model = torch.hub.load('facebookresearch/dinov2', 'dinov2_vits14')\n",
    "        \n",
    "        # 추가 레이어 정의\n",
    "        self.additional_layer = nn.Linear(384, 3)  # 입력 크기: 384, 출력 크기: 3\n",
    "\n",
    "    def forward(self, x):\n",
    "        x = self.dino_model(x)\n",
    "        x = self.additional_layer(x)\n",
    "        x = F.softmax(x, dim=-1)  # Softmax 레이어 추가\n",
    "        return x\n"
   ]
  },
  {
   "cell_type": "markdown",
   "metadata": {},
   "source": [
    "## 5. Train loop"
   ]
  },
  {
   "cell_type": "code",
   "execution_count": 30,
   "metadata": {},
   "outputs": [
    {
     "name": "stderr",
     "output_type": "stream",
     "text": [
      "Using cache found in /home/wondong/.cache/torch/hub/facebookresearch_dinov2_main\n",
      "Downloading: \"https://dl.fbaipublicfiles.com/dinov2/dinov2_vits14/dinov2_vits14_pretrain.pth\" to /home/wondong/.cache/torch/hub/checkpoints/dinov2_vits14_pretrain.pth\n",
      "100%|██████████| 84.2M/84.2M [00:12<00:00, 7.20MB/s]\n"
     ]
    },
    {
     "data": {
      "text/html": [
       "Finishing last run (ID:gpqjfukg) before initializing another..."
      ],
      "text/plain": [
       "<IPython.core.display.HTML object>"
      ]
     },
     "metadata": {},
     "output_type": "display_data"
    },
    {
     "data": {
      "text/html": [
       "<style>\n",
       "    table.wandb td:nth-child(1) { padding: 0 10px; text-align: left ; width: auto;} td:nth-child(2) {text-align: left ; width: 100%}\n",
       "    .wandb-row { display: flex; flex-direction: row; flex-wrap: wrap; justify-content: flex-start; width: 100% }\n",
       "    .wandb-col { display: flex; flex-direction: column; flex-basis: 100%; flex: 1; padding: 10px; }\n",
       "    </style>\n",
       "<div class=\"wandb-row\"><div class=\"wandb-col\"><h3>Run history:</h3><br/><table class=\"wandb\"><tr><td>train loss</td><td>████▇▆▆▆▆▅▄▄▄▄▃▄▃▃▃▂▂▂▂▂▂▂▂▁▁▂▁▁▁▁▂▁▁▂▁▁</td></tr><tr><td>validation loss</td><td>▁▁▁▂▂▂▃▂▃▃▃▃▄▄▅▃▅▆▅▅▅▆▆▆▆▆▆▆▆▇▆▆▆▇█▇▆▆▇▇</td></tr></table><br/></div><div class=\"wandb-col\"><h3>Run summary:</h3><br/><table class=\"wandb\"><tr><td>train loss</td><td>0.60625</td></tr><tr><td>validation loss</td><td>1.13369</td></tr></table><br/></div></div>"
      ],
      "text/plain": [
       "<IPython.core.display.HTML object>"
      ]
     },
     "metadata": {},
     "output_type": "display_data"
    },
    {
     "data": {
      "text/html": [
       " View run <strong style=\"color:#cdcd00\">scalogram_1</strong> at: <a href='https://wandb.ai/sungkyunkwan_/crypo/runs/gpqjfukg' target=\"_blank\">https://wandb.ai/sungkyunkwan_/crypo/runs/gpqjfukg</a><br/>Synced 5 W&B file(s), 0 media file(s), 0 artifact file(s) and 0 other file(s)"
      ],
      "text/plain": [
       "<IPython.core.display.HTML object>"
      ]
     },
     "metadata": {},
     "output_type": "display_data"
    },
    {
     "data": {
      "text/html": [
       "Find logs at: <code>./wandb/run-20240306_013950-gpqjfukg/logs</code>"
      ],
      "text/plain": [
       "<IPython.core.display.HTML object>"
      ]
     },
     "metadata": {},
     "output_type": "display_data"
    },
    {
     "data": {
      "text/html": [
       "Successfully finished last run (ID:gpqjfukg). Initializing new run:<br/>"
      ],
      "text/plain": [
       "<IPython.core.display.HTML object>"
      ]
     },
     "metadata": {},
     "output_type": "display_data"
    },
    {
     "data": {
      "text/html": [
       "wandb version 0.16.4 is available!  To upgrade, please run:\n",
       " $ pip install wandb --upgrade"
      ],
      "text/plain": [
       "<IPython.core.display.HTML object>"
      ]
     },
     "metadata": {},
     "output_type": "display_data"
    },
    {
     "data": {
      "text/html": [
       "Tracking run with wandb version 0.16.3"
      ],
      "text/plain": [
       "<IPython.core.display.HTML object>"
      ]
     },
     "metadata": {},
     "output_type": "display_data"
    },
    {
     "data": {
      "text/html": [
       "Run data is saved locally in <code>/home/wondong/coin/DinoV2/wandb/run-20240306_113459-5hw686pj</code>"
      ],
      "text/plain": [
       "<IPython.core.display.HTML object>"
      ]
     },
     "metadata": {},
     "output_type": "display_data"
    },
    {
     "data": {
      "text/html": [
       "Syncing run <strong><a href='https://wandb.ai/sungkyunkwan_/crypo/runs/5hw686pj' target=\"_blank\">scalogram_2</a></strong> to <a href='https://wandb.ai/sungkyunkwan_/crypo' target=\"_blank\">Weights & Biases</a> (<a href='https://wandb.me/run' target=\"_blank\">docs</a>)<br/>"
      ],
      "text/plain": [
       "<IPython.core.display.HTML object>"
      ]
     },
     "metadata": {},
     "output_type": "display_data"
    },
    {
     "data": {
      "text/html": [
       " View project at <a href='https://wandb.ai/sungkyunkwan_/crypo' target=\"_blank\">https://wandb.ai/sungkyunkwan_/crypo</a>"
      ],
      "text/plain": [
       "<IPython.core.display.HTML object>"
      ]
     },
     "metadata": {},
     "output_type": "display_data"
    },
    {
     "data": {
      "text/html": [
       " View run at <a href='https://wandb.ai/sungkyunkwan_/crypo/runs/5hw686pj' target=\"_blank\">https://wandb.ai/sungkyunkwan_/crypo/runs/5hw686pj</a>"
      ],
      "text/plain": [
       "<IPython.core.display.HTML object>"
      ]
     },
     "metadata": {},
     "output_type": "display_data"
    },
    {
     "name": "stderr",
     "output_type": "stream",
     "text": [
      "  0%|          | 0/3000 [00:00<?, ?it/s]"
     ]
    },
    {
     "name": "stdout",
     "output_type": "stream",
     "text": [
      "Mean of Train Loss :  1.0463710927088326\n"
     ]
    },
    {
     "name": "stderr",
     "output_type": "stream",
     "text": [
      "  0%|          | 1/3000 [03:44<186:52:18, 224.32s/it]"
     ]
    },
    {
     "name": "stdout",
     "output_type": "stream",
     "text": [
      "Mean of Val Loss :  1.0487006805900834\n",
      "\n",
      "##################################################\n",
      "Wow New Model Pop up :  1.0487006805900834\n",
      "##################################################\n",
      "Mean of Train Loss :  1.0361174785762752\n"
     ]
    },
    {
     "name": "stderr",
     "output_type": "stream",
     "text": [
      "  0%|          | 2/3000 [07:28<186:34:18, 224.04s/it]"
     ]
    },
    {
     "name": "stdout",
     "output_type": "stream",
     "text": [
      "Mean of Val Loss :  1.0431912633088918\n",
      "\n",
      "##################################################\n",
      "Wow New Model Pop up :  1.0431912633088918\n",
      "##################################################\n",
      "Mean of Train Loss :  1.0276414332039858\n"
     ]
    },
    {
     "name": "stderr",
     "output_type": "stream",
     "text": [
      "  0%|          | 3/3000 [11:12<186:40:37, 224.24s/it]"
     ]
    },
    {
     "name": "stdout",
     "output_type": "stream",
     "text": [
      "Mean of Val Loss :  1.0426146421167586\n",
      "\n",
      "##################################################\n",
      "Wow New Model Pop up :  1.0426146421167586\n",
      "##################################################\n",
      "Mean of Train Loss :  1.018670498777967\n"
     ]
    },
    {
     "name": "stderr",
     "output_type": "stream",
     "text": [
      "  0%|          | 4/3000 [14:56<186:34:49, 224.20s/it]"
     ]
    },
    {
     "name": "stdout",
     "output_type": "stream",
     "text": [
      "Mean of Val Loss :  1.042046935385109\n",
      "\n",
      "##################################################\n",
      "Wow New Model Pop up :  1.042046935385109\n",
      "##################################################\n",
      "Mean of Train Loss :  1.0037640946720718\n"
     ]
    },
    {
     "name": "stderr",
     "output_type": "stream",
     "text": [
      "  0%|          | 5/3000 [18:41<186:34:50, 224.27s/it]"
     ]
    },
    {
     "name": "stdout",
     "output_type": "stream",
     "text": [
      "Mean of Val Loss :  1.0405482369610386\n",
      "\n",
      "##################################################\n",
      "Wow New Model Pop up :  1.0405482369610386\n",
      "##################################################\n",
      "Mean of Train Loss :  0.9844164379146121\n"
     ]
    },
    {
     "name": "stderr",
     "output_type": "stream",
     "text": [
      "  0%|          | 6/3000 [22:25<186:27:14, 224.19s/it]"
     ]
    },
    {
     "name": "stdout",
     "output_type": "stream",
     "text": [
      "Mean of Val Loss :  1.04343225252934\n",
      "Mean of Train Loss :  0.9571170568466186\n"
     ]
    },
    {
     "name": "stderr",
     "output_type": "stream",
     "text": [
      "  0%|          | 7/3000 [26:09<186:20:15, 224.13s/it]"
     ]
    },
    {
     "name": "stdout",
     "output_type": "stream",
     "text": [
      "Mean of Val Loss :  1.0552664136784708\n",
      "Mean of Train Loss :  0.9322141042543114\n"
     ]
    },
    {
     "name": "stderr",
     "output_type": "stream",
     "text": [
      "  0%|          | 8/3000 [29:53<186:15:04, 224.10s/it]"
     ]
    },
    {
     "name": "stdout",
     "output_type": "stream",
     "text": [
      "Mean of Val Loss :  1.0535796035049307\n",
      "Mean of Train Loss :  0.9136865070106787\n"
     ]
    },
    {
     "name": "stderr",
     "output_type": "stream",
     "text": [
      "  0%|          | 9/3000 [33:37<186:08:54, 224.05s/it]"
     ]
    },
    {
     "name": "stdout",
     "output_type": "stream",
     "text": [
      "Mean of Val Loss :  1.058893679553627\n",
      "Mean of Train Loss :  0.9041679062974562\n"
     ]
    },
    {
     "name": "stderr",
     "output_type": "stream",
     "text": [
      "  0%|          | 10/3000 [37:20<186:01:06, 223.97s/it]"
     ]
    },
    {
     "name": "stdout",
     "output_type": "stream",
     "text": [
      "Mean of Val Loss :  1.0550479545043066\n",
      "Mean of Train Loss :  0.9014626585015463\n"
     ]
    },
    {
     "name": "stderr",
     "output_type": "stream",
     "text": [
      "  0%|          | 11/3000 [41:04<185:54:59, 223.92s/it]"
     ]
    },
    {
     "name": "stdout",
     "output_type": "stream",
     "text": [
      "Mean of Val Loss :  1.0550479545043066\n",
      "Mean of Train Loss :  0.9018262796445724\n"
     ]
    },
    {
     "name": "stderr",
     "output_type": "stream",
     "text": [
      "  0%|          | 12/3000 [44:48<185:47:55, 223.85s/it]"
     ]
    },
    {
     "name": "stdout",
     "output_type": "stream",
     "text": [
      "Mean of Val Loss :  1.0559483657025883\n",
      "Mean of Train Loss :  0.9021316117102947\n"
     ]
    },
    {
     "name": "stderr",
     "output_type": "stream",
     "text": [
      "  0%|          | 13/3000 [48:32<185:42:50, 223.83s/it]"
     ]
    },
    {
     "name": "stdout",
     "output_type": "stream",
     "text": [
      "Mean of Val Loss :  1.0571822108875992\n",
      "Mean of Train Loss :  0.8995947263656406\n"
     ]
    },
    {
     "name": "stderr",
     "output_type": "stream",
     "text": [
      "  0%|          | 14/3000 [52:15<185:36:06, 223.77s/it]"
     ]
    },
    {
     "name": "stdout",
     "output_type": "stream",
     "text": [
      "Mean of Val Loss :  1.0574423680957565\n",
      "Mean of Train Loss :  0.8936219563177966\n"
     ]
    },
    {
     "name": "stderr",
     "output_type": "stream",
     "text": [
      "  0%|          | 15/3000 [55:59<185:29:16, 223.70s/it]"
     ]
    },
    {
     "name": "stdout",
     "output_type": "stream",
     "text": [
      "Mean of Val Loss :  1.0650682798308184\n",
      "Mean of Train Loss :  0.8839102682717349\n"
     ]
    },
    {
     "name": "stderr",
     "output_type": "stream",
     "text": [
      "  1%|          | 16/3000 [59:43<185:26:45, 223.73s/it]"
     ]
    },
    {
     "name": "stdout",
     "output_type": "stream",
     "text": [
      "Mean of Val Loss :  1.060422647712577\n",
      "Mean of Train Loss :  0.8677491836591598\n"
     ]
    },
    {
     "name": "stderr",
     "output_type": "stream",
     "text": [
      "  1%|          | 17/3000 [1:03:27<185:24:47, 223.76s/it]"
     ]
    },
    {
     "name": "stdout",
     "output_type": "stream",
     "text": [
      "Mean of Val Loss :  1.0724250974818172\n",
      "Mean of Train Loss :  0.8523658724006163\n"
     ]
    },
    {
     "name": "stderr",
     "output_type": "stream",
     "text": [
      "  1%|          | 18/3000 [1:07:10<185:17:57, 223.70s/it]"
     ]
    },
    {
     "name": "stdout",
     "output_type": "stream",
     "text": [
      "Mean of Val Loss :  1.075333234336641\n",
      "Mean of Train Loss :  0.8322419935410176\n"
     ]
    },
    {
     "name": "stderr",
     "output_type": "stream",
     "text": [
      "  1%|          | 19/3000 [1:10:54<185:15:54, 223.74s/it]"
     ]
    },
    {
     "name": "stdout",
     "output_type": "stream",
     "text": [
      "Mean of Val Loss :  1.0762943605072477\n",
      "Mean of Train Loss :  0.816101586818695\n"
     ]
    },
    {
     "name": "stderr",
     "output_type": "stream",
     "text": [
      "  1%|          | 20/3000 [1:14:38<185:12:39, 223.74s/it]"
     ]
    },
    {
     "name": "stdout",
     "output_type": "stream",
     "text": [
      "Mean of Val Loss :  1.0878328423724215\n",
      "Mean of Train Loss :  0.7922155904113699\n"
     ]
    },
    {
     "name": "stderr",
     "output_type": "stream",
     "text": [
      "  1%|          | 21/3000 [1:18:21<185:08:05, 223.73s/it]"
     ]
    },
    {
     "name": "stdout",
     "output_type": "stream",
     "text": [
      "Mean of Val Loss :  1.0903859742176838\n",
      "Mean of Train Loss :  0.769265995550593\n"
     ]
    },
    {
     "name": "stderr",
     "output_type": "stream",
     "text": [
      "  1%|          | 22/3000 [1:22:13<187:02:45, 226.11s/it]"
     ]
    },
    {
     "name": "stdout",
     "output_type": "stream",
     "text": [
      "Mean of Val Loss :  1.0839455153188136\n"
     ]
    },
    {
     "name": "stderr",
     "output_type": "stream",
     "text": [
      "  1%|          | 22/3000 [1:22:20<185:44:58, 224.55s/it]\n"
     ]
    },
    {
     "ename": "KeyboardInterrupt",
     "evalue": "",
     "output_type": "error",
     "traceback": [
      "\u001b[0;31m---------------------------------------------------------------------------\u001b[0m",
      "\u001b[0;31mKeyboardInterrupt\u001b[0m                         Traceback (most recent call last)",
      "Cell \u001b[0;32mIn[30], line 53\u001b[0m\n\u001b[1;32m     51\u001b[0m train_loss \u001b[38;5;241m=\u001b[39m criterion(train_pred, train_gt)\n\u001b[1;32m     52\u001b[0m train_loss \u001b[38;5;241m=\u001b[39m train_loss\n\u001b[0;32m---> 53\u001b[0m train_losses\u001b[38;5;241m.\u001b[39mappend(\u001b[43mtrain_loss\u001b[49m\u001b[38;5;241;43m.\u001b[39;49m\u001b[43mitem\u001b[49m\u001b[43m(\u001b[49m\u001b[43m)\u001b[49m)\n\u001b[1;32m     54\u001b[0m train_loss\u001b[38;5;241m.\u001b[39mbackward()\n\u001b[1;32m     55\u001b[0m optimizer\u001b[38;5;241m.\u001b[39mstep()\n",
      "\u001b[0;31mKeyboardInterrupt\u001b[0m: "
     ]
    },
    {
     "name": "stderr",
     "output_type": "stream",
     "text": [
      "wandb: Network error (ConnectionError), entering retry loop.\n"
     ]
    }
   ],
   "source": [
    "import torch.optim as optim\n",
    "import os\n",
    "import wandb\n",
    "\n",
    "from tqdm import tqdm\n",
    "from torch.optim.lr_scheduler import CosineAnnealingLR\n",
    "\n",
    "train_dataset = CustomDataset(\"/home/wondong/coin/DinoV2/dataset_scelo/train_dataset.csv\", True)\n",
    "test_dataset = CustomDataset(\"/home/wondong/coin/DinoV2/dataset_scelo/train_dataset.csv\", False)\n",
    "\n",
    "train_dataloader = DataLoader(train_dataset, shuffle=True, batch_size = 32)\n",
    "test_dataloader = DataLoader(test_dataset, shuffle=False, batch_size = 32)\n",
    "\n",
    "model = ModifiedDinoVisionTransformer()\n",
    "\n",
    "epoch_size = 3000\n",
    "device =  \"cuda\" if torch.cuda.is_available() == True else \"cpu\"\n",
    "model = model.to(device)\n",
    "\n",
    "criterion = nn.CrossEntropyLoss()\n",
    "\n",
    "# AdamW 옵티마이저 정의\n",
    "optimizer = optim.AdamW(model.parameters(), lr=0.000001)\n",
    "\n",
    "# 코사인 스케줄러 정의\n",
    "scheduler = CosineAnnealingLR(optimizer, T_max=10)\n",
    "\n",
    "save_path = \"/home/wondong/coin/DinoV2/checkpoints2\"\n",
    "if not os.path.exists(save_path):\n",
    "    os.mkdir(save_path)\n",
    "save_checkpoints = save_path + \"/best_aug.pt\"\n",
    "min_loss = 100\n",
    "\n",
    "\n",
    "wandb.init(project=\"crypo\", name=\"scalogram_2\")\n",
    "\n",
    "for epoch in tqdm(range(epoch_size)):\n",
    "    train_losses = []\n",
    "    for train_idx, (train_img, train_gt) in enumerate(train_dataloader):\n",
    "\n",
    "        train_img = train_img.to(device)\n",
    "        train_img = train_img.to(dtype = torch.float)\n",
    "        \n",
    "        train_gt = train_gt.to(device)\n",
    "        train_gt = train_gt.to(dtype = torch.float)\n",
    "\n",
    "        optimizer.zero_grad()\n",
    "\n",
    "        train_pred = model(train_img)\n",
    "\n",
    "        train_loss = criterion(train_pred, train_gt)\n",
    "        train_loss = train_loss\n",
    "        train_losses.append(train_loss.item())\n",
    "        train_loss.backward()\n",
    "        optimizer.step()\n",
    "    train_losses_np = np.array(train_losses)\n",
    "    mean_train_loss = np.mean(train_losses_np)\n",
    "\n",
    "    print(\"Mean of Train Loss : \", mean_train_loss)\n",
    "\n",
    "    val_losses = []\n",
    "    with torch.no_grad():\n",
    "        for val_idx, (val_img, val_gt) in enumerate(test_dataloader):\n",
    "\n",
    "            val_img = val_img.to(device)\n",
    "            val_img = val_img.to(dtype = torch.float)\n",
    "        \n",
    "            val_gt = val_gt.to(device)\n",
    "            val_gt = val_gt.to(dtype = torch.float)\n",
    "\n",
    "            val_pred = model(val_img)\n",
    "\n",
    "            val_loss = criterion(val_pred, val_gt)\n",
    "            val_loss = val_loss \n",
    "            val_losses.append(val_loss.item())\n",
    "  \n",
    "\n",
    "    val_losses_np = np.array(val_losses)\n",
    "    mean_val_loss = np.mean(val_losses_np)\n",
    "\n",
    "\n",
    "    print(\"Mean of Val Loss : \", mean_val_loss)\n",
    "    \n",
    "    scheduler.step()\n",
    "\n",
    "    wandb.log({\"train loss\": mean_train_loss, \"validation loss\": mean_val_loss})\n",
    "\n",
    "    if min_loss > mean_val_loss:\n",
    "        min_loss = mean_val_loss\n",
    "        print(\"\")\n",
    "        print(\"#\"*50)\n",
    "        print(\"Wow New Model Pop up : \", min_loss)\n",
    "        print(\"#\"*50)\n",
    "        \n",
    "\n",
    "        if not os.path.exists(save_path):\n",
    "            os.mkdir(save_path)\n",
    "        \n",
    "        torch.save(model.state_dict(), save_checkpoints)\n"
   ]
  },
  {
   "cell_type": "code",
   "execution_count": null,
   "metadata": {},
   "outputs": [],
   "source": []
  }
 ],
 "metadata": {
  "kernelspec": {
   "display_name": "coin",
   "language": "python",
   "name": "python3"
  },
  "language_info": {
   "codemirror_mode": {
    "name": "ipython",
    "version": 3
   },
   "file_extension": ".py",
   "mimetype": "text/x-python",
   "name": "python",
   "nbconvert_exporter": "python",
   "pygments_lexer": "ipython3",
   "version": "3.9.18"
  }
 },
 "nbformat": 4,
 "nbformat_minor": 2
}
